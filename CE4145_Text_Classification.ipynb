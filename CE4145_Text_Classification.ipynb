{
 "cells": [
  {
   "cell_type": "markdown",
   "id": "8e8657ef-23c2-4183-8e0e-ad60b2ec55dc",
   "metadata": {},
   "source": [
    "# CE4145: Text Classification - Comparative Pipelines\n",
    "This notebook implements a comparative evaluation of two text classification pipelines on the “Sentiment Labelled Sentences” datasets (Amazon, IMDb, Yelp)."
   ]
  },
  {
   "cell_type": "markdown",
   "id": "0e416ff1",
   "metadata": {},
   "source": [
    "I acknowledge use of OpenAI ChatGPT from chatgpt.com to  plan, research and generate ideas for the content and \n",
    "structure, or on how to improve the work. I entered the following prompts on [21.10.25-30.10.25]: \n",
    "\n",
    "1. \"Im not sure which algorithms I should be using for my NLP coursework. The brief says to compare two different pipelines, but doesnt really specify which algorithms to use. I dont want to pick something thats too advanced or irrelevant. What would make sense for text classification?\"\n",
    "\n",
    "\"That’s a great question — and you’re thinking about it in the right way. For this kind of task, you want two algorithms that are different enough to compare meaningfully, but not so complex that they’re outside the scope of what’s been taught.\n",
    "\n",
    "Since your project is focused on text classification, the most sensible and interpretable baseline choice would be Multinomial Naïve Bayes (MNB). It’s fast, lightweight, and works really well with word-frequency representations like TF–IDF.\n",
    "\n",
    "For your second pipeline, a good contrasting approach would be a Linear Support Vector Machine (SVM). It’s fundamentally different from Naïve Bayes — instead of estimating probabilities, it learns a decision boundary that separates positive and negative examples.\n",
    "\n",
    "Both models are widely used in NLP, both are covered in most university-level machine learning content, and both work very well with the kinds of vectorised features you’ll be using. This gives you a fair, balanced comparison between a probabilistic and a geometric model — exactly what your brief is asking for.\"\n",
    "\n",
    "\n",
    "\n",
    "2. \"I dont really understand how to create a virtual environment or what it even does. I know its something to do with Python projects, but can you explain what its for and give me the exact steps to make one?\"\n",
    "\n",
    "\"Of course! A virtual environment (often called a “venv”) is like a little isolated box where your project’s Python packages live. It keeps everything separate so that installing one version of a library for one project doesn’t mess up another project on your computer.\n",
    "\n",
    "It’s not strictly required for every small project, but it’s a really good habit — especially for coursework like this. It means your dependencies are consistent, your code is reproducible, and you can share your setup with others (like your lecturer) without breaking anything.\n",
    "\n",
    "Here’s exactly how to make and activate one:\n",
    "\n",
    "On Windows (Command Prompt):\n",
    "\n",
    "py -3.11 -m venv .venv  \n",
    ".\\venv\\Scripts\\activate\n",
    "\n",
    "\n",
    "Once you run the first line, Python creates a folder called .venv that holds everything your project needs. The second line activates it, which means your terminal will now show something like (venv) before the path — that’s how you know it worked.\n",
    "\n",
    "If you’re using PowerShell, you might need to run this instead (because it handles scripts differently):\n",
    "\n",
    ".\\venv\\Scripts\\Activate.ps1\n",
    "\n",
    "\n",
    "And if you’re on Mac or Linux, use:\n",
    "\n",
    "python3 -m venv .venv  \n",
    "source .venv/bin/activate\n",
    "\n",
    "\n",
    "After that, you can install all your dependencies (like pandas, numpy, sklearn, etc.) into your virtual environment using:\n",
    "\n",
    "pip install -r requirements.txt\n",
    "\n",
    "\n",
    "Every time you open a new terminal, remember you’ll need to activate the environment again before running the notebook or your Python scripts — otherwise, your packages won’t be found.\"\n",
    "\n",
    "3. \"My virtual environment isnt activating in VS Code. What command should I use on Windows?\"\n",
    "\n",
    "\"If you’re using Command Prompt, try:\n",
    "\n",
    "py -3.11 -m venv .venv  \n",
    ".\\venv\\Scripts\\activate\n",
    "\n",
    "\n",
    "For PowerShell, use:\n",
    "\n",
    ".\\venv\\Scripts\\Activate.ps1\"\n",
    "\n",
    "4. \"I keep getting a shape error when I try to fit my model. It says something like “found input variables with inconsistent numbers of samples”. I’m using TF–IDF and Naïve Bayes - what does that mean and how do I fix it?\"\n",
    "\n",
    "\"That error usually means your feature matrix (X_train) and labels (y_train) don’t have the same number of rows. It can happen if you split your data incorrectly or reset the index for only one of them.\n",
    "\n",
    "Try checking this:\n",
    "\n",
    "print(X_train.shape, y_train.shape)\n",
    "\n",
    "\n",
    "If the first numbers don’t match, you’ll need to align them. Make sure you’re splitting both X and y at the same time like this:\n",
    "\n",
    "X_train, X_val, y_train, y_val = train_test_split(X, y, test_size=0.2, random_state=42)\n",
    "\n",
    "\n",
    "That keeps them synced. After that, your model.fit(X_train, y_train) line should work fine.\"\n",
    "\n",
    "\n",
    "\n",
    "5. \"I need to write a README explaining how to set up and run my project. What should I include?\"\n",
    "\n",
    "\"Include setup instructions for the virtual environment, installation of dependencies, and how to open your notebook. Example:\n",
    "\n",
    "Create a virtual environment\n",
    "\n",
    "Install from requirements.txt\n",
    "\n",
    "Run jupyter notebook and open your .ipynb file.\"\n",
    "\n",
    "\n",
    "\n",
    "\n",
    "\n",
    " All of the above content was used to help decide which algorithm models to choose for my model, how to create and implement a virtual environment (venv), bugs related to fitting the models, what content and description to put inside my readme folder, and how to activate my venv.  "
   ]
  },
  {
   "cell_type": "markdown",
   "id": "1a09190a-689b-447f-a87f-8eeeede36beb",
   "metadata": {},
   "source": [
    "## Introduction\n",
    "This project aims to focus on sentiment classification, which is an ongoing issue within the world of Natural Language Processing (NLP). In this setting, it primarily involves the algorithm determining whether the emotion behind a piece of text or writing is positive or negative. This system is already deployed in many real world applications, such as product reviews, social media monitoring, or film ratings as manually analysing user data at this scale would be impossible. \n",
    "\n",
    "The dataset used in this assessment is the Sentiment Labelled Sentences dataset from the UCI Machine Learning Repository. The dataset has a fifty-fifty amount of positive and negative movie reviews from Amazon products, IMDb movies, and Yelp business reviews. If a sentence is postive, it is labelled with a (1), and (0) for negative. This creates a balanced dataset which in turn makes it suitable for supervised learning and also gives a good benchmark for comparing results. \n",
    "\n",
    "The objective of this project is to build and evaluate two unique NLP pipelines to perform the binary classification task. The first pipeline uses word-level TF–IDF representations with a Multinomial Naïve Bayes classifier, while the second uses character-level TF–IDF representations with a Linear Support Vector Machine. These pipelines are then compared with each other to identify which approach has the best performance. \n"
   ]
  },
  {
   "cell_type": "markdown",
   "id": "48ebae60-228b-4f8d-b50a-feef127a86bd",
   "metadata": {},
   "source": [
    "## Section 2: Representation Learning\n",
    "Before anything can happen, the first necessary step is to convert raw text into a numerical form that algorithms can actually read and process. This has a name: Vectorisation. The process involves representing each sentence as a list of numbers, with the number corresponding to the importance of a word or character pattern based on how frequently it appears in the dataset. \n",
    "\n",
    "In this project, the chosen representation technique is TF–IDF (Term Frequency–Inverse Document Frequency). This means words that are unique or distinctive are are assigned an increased weight (a higher number), while words that are abundant or more common are given the opposite treatment. \n",
    "\n",
    "The first representation is word-level TF-IDF, where every document is represented by unigrams and bigrams (single words and short phrases). The algorithm then picks up on meaningful expressions with sentiment, for example \"excellent\" or \"awful\" and helps them to be recognised. The second representation is character-level TF-IDF, using n-grams of length 3–5. Character-based features capture subword patterns, punctuation, and spelling variations. This helps the model adapt to informal typing practise or misspelled text. \n",
    "\n",
    "These two methods are methodologically different, and will be compared to determine whether sentiment is better detected through full words and phrases or through more granular subword patterns.\n",
    "\n"
   ]
  },
  {
   "cell_type": "markdown",
   "id": "92fcacb7",
   "metadata": {},
   "source": [
    "## Section 3: Algorithms\n",
    "To evaluate different approaches for sentiment classification, two functionally unique algorithms were tested: Multinomial Naïve Bayes (MNB) and a Linear Support Vector Machine (SVM). Both are popular methods in NLP, but work very differently mathematically. This makes the two models suitable candidates for a comparision. \n",
    "\n",
    "Multinomial Naïve Bayes (MNB) is a probabilistic classifier based on Bayes’ Theory. It uses the features (words) to calculate the probability of the class, in this context being positive or negative. The term \"naïve\" is used because it assumes that features are independant from another, as if each word didnt have an effect of the meaning of another word. Despite sounding flawed by design, MNB performs suprisingly very well on text data. The multinomial aspect means it models feature frequencies, making it ideal for TF–IDF or word count vectorisers. MNB is also very efficient, computationally. It is also easy to understand, and performs particularly well in cases where words very clearly indicate sentiment. However, it cant form relationships between words or interperate linguistically complex language, which in turn can limit algorithm accuracy on more nuanced text. In this project, MNB is paired up with word level TD-IDF features because this representation best works with the assumption that terms are independant from another. \n",
    "\n",
    "The Linear Support Vector Machine (SVM), on the other hand, is a discriminative classifier that seeks to find an optimal decision boundary (hyperplane) seperating data points of different classes with the largest difference between them. In this case, that would be positive and negative. The line between the different classes, is called the decision boundary. The job of SVM is to make the boundary as wide as possible so that unseen data can be more easily classed.\n",
    "\n",
    "SVM's are robust. They perform well even if the data has errors. In this project, the SVM was used with character-level TF-IDF features, since these capture small details such as letter patterns, punctuation, and repeated characters such as, “sooo good” or “terrible!!!”. This helps the model understand informal writing styles or spelling errors. \n",
    "\n",
    "These two algorithms offer differing perspectives on the sentiment classifcation problem. Naïve Bayes takes a simplistic approach, simply looking for term occurance probabilities, whereas SVM uses a complex, margin-based approach that is optimised to sperate in feature space. \n",
    "\n",
    "\n",
    "\n",
    "\n"
   ]
  },
  {
   "cell_type": "markdown",
   "id": "fb53a970",
   "metadata": {},
   "source": [
    "## Section 4: Evaluation\n",
    "\n",
    "The models were analysed and compared by divding the dataset into training, validation and testing sets to ensure optimal performance measurement. The dataset was split into a 60/20/20 ratio respectively. This allows the models to be tuned and compared on the validation set before being evaluated on unseen data. This is done to avoid overfitting and ensures that the results are real. \n",
    "\n",
    "Performance was then assessed using accuracy and a weighted F1 score. Together, this gives an overview of how well each model worked. \n",
    "\n",
    "The first pipeline, using TF-IDF, combined with Multinomial Naïve Bayes, achieved an accuracy of 81%. The second pipeline, which used character-level TF–IDF with a Linear Support Vector Machine, reached 83% accuracy.\n",
    "\n",
    "These results are very similar between the two but what can be taken is that Naïve Bayes performs strongly with explicit sentiment words, while SVM captures more subtle patterns and generalises very slightly better. Both models achieved consistent and high accuracy, which means that TF–IDF-based representations are effective for sentiment classification tasks.\n"
   ]
  },
  {
   "cell_type": "code",
   "execution_count": 1,
   "id": "baf7b19a-9927-423d-bb69-2aad30af92bc",
   "metadata": {},
   "outputs": [],
   "source": [
    "%matplotlib inline\n",
    "\n",
    "import os, re\n",
    "from pathlib import Path\n",
    "\n",
    "import numpy as np\n",
    "import pandas as pd\n",
    "import matplotlib.pyplot as plt\n",
    "\n",
    "from sklearn.model_selection import train_test_split\n",
    "from sklearn.feature_extraction.text import TfidfVectorizer\n",
    "from sklearn.naive_bayes import MultinomialNB\n",
    "from sklearn.svm import LinearSVC\n",
    "from sklearn.metrics import accuracy_score, f1_score, classification_report, ConfusionMatrixDisplay"
   ]
  },
  {
   "cell_type": "markdown",
   "id": "af46db5e-9f22-4973-81cd-4fcebfff84c5",
   "metadata": {},
   "source": [
    "Configuration and constants"
   ]
  },
  {
   "cell_type": "code",
   "execution_count": 2,
   "id": "d638717d-ba55-47e8-8dc6-c0120289edd0",
   "metadata": {},
   "outputs": [
    {
     "name": "stdout",
     "output_type": "stream",
     "text": [
      "Using data from: c:\\Users\\natha\\Downloads\\ce4145_project\\data\n"
     ]
    }
   ],
   "source": [
    "ROOT = Path.cwd()\n",
    "DATA_DIR = ROOT / \"data\"\n",
    "if not DATA_DIR.exists():\n",
    "    DATA_DIR = ROOT / \"ce4145_project\" / \"data\"\n",
    "assert DATA_DIR.exists(), f\"Couldn't find data folder under {ROOT}\"\n",
    "DATA_FILE = str(DATA_DIR)\n",
    "print(\"Using data from:\", DATA_FILE)"
   ]
  },
  {
   "cell_type": "code",
   "execution_count": 3,
   "id": "7f36caa4-a253-49e6-b37c-fd1392eabe15",
   "metadata": {},
   "outputs": [],
   "source": [
    "def load_dataset(file_path: str) -> pd.DataFrame:\n",
    "    def _load_one(path):\n",
    "        df = pd.read_csv(path, sep=\"\\t\", header=None, names=[\"text\",\"label\"])\n",
    "        df[\"label\"] = pd.to_numeric(df[\"label\"], errors=\"coerce\")\n",
    "        df = df.dropna(subset=[\"label\"])\n",
    "        df[\"label\"] = df[\"label\"].astype(int)\n",
    "        df[\"text\"]  = df[\"text\"].astype(str).str.strip()\n",
    "        return df\n",
    "\n",
    "    if os.path.isdir(file_path):\n",
    "        frames, names = [], []\n",
    "        for fname in os.listdir(file_path):\n",
    "            if fname.lower().endswith(\"_labelled.txt\"):\n",
    "                frames.append(_load_one(os.path.join(file_path, fname)))\n",
    "                names.append(fname)\n",
    "        if not frames:\n",
    "            raise ValueError(f\"No *_labelled.txt files found in {file_path}\")\n",
    "        print(\"[INFO] Loaded files:\", \", \".join(sorted(names)))\n",
    "        df = pd.concat(frames, ignore_index=True)\n",
    "    else:\n",
    "        df = _load_one(file_path)\n",
    "    df = df[df[\"text\"] != \"\"].reset_index(drop=True)\n",
    "    return df"
   ]
  },
  {
   "cell_type": "markdown",
   "id": "1237c1e5-9b47-4ea4-981a-52c05bca258e",
   "metadata": {},
   "source": [
    "Section 1: Dataset loading and exploration"
   ]
  },
  {
   "cell_type": "code",
   "execution_count": 4,
   "id": "9e8aefd5-262e-4b09-925c-a43bdcaaa3d8",
   "metadata": {},
   "outputs": [
    {
     "name": "stdout",
     "output_type": "stream",
     "text": [
      "[INFO] Loaded files: amazon_cells_labelled.txt, imdb_labelled.txt, yelp_labelled.txt\n",
      "(2748, 2)\n"
     ]
    },
    {
     "data": {
      "text/html": [
       "<div>\n",
       "<style scoped>\n",
       "    .dataframe tbody tr th:only-of-type {\n",
       "        vertical-align: middle;\n",
       "    }\n",
       "\n",
       "    .dataframe tbody tr th {\n",
       "        vertical-align: top;\n",
       "    }\n",
       "\n",
       "    .dataframe thead th {\n",
       "        text-align: right;\n",
       "    }\n",
       "</style>\n",
       "<table border=\"1\" class=\"dataframe\">\n",
       "  <thead>\n",
       "    <tr style=\"text-align: right;\">\n",
       "      <th></th>\n",
       "      <th>text</th>\n",
       "      <th>label</th>\n",
       "    </tr>\n",
       "  </thead>\n",
       "  <tbody>\n",
       "    <tr>\n",
       "      <th>0</th>\n",
       "      <td>So there is no way for me to plug it in here i...</td>\n",
       "      <td>0</td>\n",
       "    </tr>\n",
       "    <tr>\n",
       "      <th>1</th>\n",
       "      <td>Good case, Excellent value.</td>\n",
       "      <td>1</td>\n",
       "    </tr>\n",
       "    <tr>\n",
       "      <th>2</th>\n",
       "      <td>Great for the jawbone.</td>\n",
       "      <td>1</td>\n",
       "    </tr>\n",
       "    <tr>\n",
       "      <th>3</th>\n",
       "      <td>Tied to charger for conversations lasting more...</td>\n",
       "      <td>0</td>\n",
       "    </tr>\n",
       "    <tr>\n",
       "      <th>4</th>\n",
       "      <td>The mic is great.</td>\n",
       "      <td>1</td>\n",
       "    </tr>\n",
       "  </tbody>\n",
       "</table>\n",
       "</div>"
      ],
      "text/plain": [
       "                                                text  label\n",
       "0  So there is no way for me to plug it in here i...      0\n",
       "1                        Good case, Excellent value.      1\n",
       "2                             Great for the jawbone.      1\n",
       "3  Tied to charger for conversations lasting more...      0\n",
       "4                                  The mic is great.      1"
      ]
     },
     "execution_count": 4,
     "metadata": {},
     "output_type": "execute_result"
    }
   ],
   "source": [
    "df = load_dataset(DATA_FILE)\n",
    "print(df.shape)\n",
    "df.head()"
   ]
  },
  {
   "cell_type": "code",
   "execution_count": 5,
   "id": "80563026-6f59-4028-952e-de1baed56020",
   "metadata": {},
   "outputs": [
    {
     "name": "stdout",
     "output_type": "stream",
     "text": [
      "label\n",
      "1    1386\n",
      "0    1362\n",
      "Name: count, dtype: int64\n"
     ]
    },
    {
     "data": {
      "image/png": "[encoded data removed]",
      "text/plain": [
       "<Figure size 640x480 with 1 Axes>"
      ]
     },
     "metadata": {},
     "output_type": "display_data"
    }
   ],
   "source": [
    "print(df[\"label\"].value_counts())\n",
    "ax = (df[\"label\"].map({0:\"Negative\",1:\"Positive\"})\n",
    "            .value_counts().sort_index().plot.bar(title=\"Label distribution\"))\n",
    "ax.set_xlabel(\"Sentiment\"); ax.set_ylabel(\"Count\"); plt.show()"
   ]
  },
  {
   "cell_type": "markdown",
   "id": "16d2ef42-9be2-4bea-9f2c-478e82738579",
   "metadata": {},
   "source": [
    "Load the dataset from a single TSV file or from a directory."
   ]
  },
  {
   "cell_type": "code",
   "execution_count": 6,
   "id": "26815d76-d31a-40ad-8627-b26d40b1faac",
   "metadata": {},
   "outputs": [
    {
     "data": {
      "text/html": [
       "<div>\n",
       "<style scoped>\n",
       "    .dataframe tbody tr th:only-of-type {\n",
       "        vertical-align: middle;\n",
       "    }\n",
       "\n",
       "    .dataframe tbody tr th {\n",
       "        vertical-align: top;\n",
       "    }\n",
       "\n",
       "    .dataframe thead th {\n",
       "        text-align: right;\n",
       "    }\n",
       "</style>\n",
       "<table border=\"1\" class=\"dataframe\">\n",
       "  <thead>\n",
       "    <tr style=\"text-align: right;\">\n",
       "      <th></th>\n",
       "      <th>text</th>\n",
       "      <th>text_clean</th>\n",
       "      <th>label</th>\n",
       "    </tr>\n",
       "  </thead>\n",
       "  <tbody>\n",
       "    <tr>\n",
       "      <th>0</th>\n",
       "      <td>So there is no way for me to plug it in here i...</td>\n",
       "      <td>so there is no way for me to plug it in here i...</td>\n",
       "      <td>0</td>\n",
       "    </tr>\n",
       "    <tr>\n",
       "      <th>1</th>\n",
       "      <td>Good case, Excellent value.</td>\n",
       "      <td>good case excellent value</td>\n",
       "      <td>1</td>\n",
       "    </tr>\n",
       "    <tr>\n",
       "      <th>2</th>\n",
       "      <td>Great for the jawbone.</td>\n",
       "      <td>great for the jawbone</td>\n",
       "      <td>1</td>\n",
       "    </tr>\n",
       "    <tr>\n",
       "      <th>3</th>\n",
       "      <td>Tied to charger for conversations lasting more...</td>\n",
       "      <td>tied to charger for conversations lasting more...</td>\n",
       "      <td>0</td>\n",
       "    </tr>\n",
       "    <tr>\n",
       "      <th>4</th>\n",
       "      <td>The mic is great.</td>\n",
       "      <td>the mic is great</td>\n",
       "      <td>1</td>\n",
       "    </tr>\n",
       "  </tbody>\n",
       "</table>\n",
       "</div>"
      ],
      "text/plain": [
       "                                                text  \\\n",
       "0  So there is no way for me to plug it in here i...   \n",
       "1                        Good case, Excellent value.   \n",
       "2                             Great for the jawbone.   \n",
       "3  Tied to charger for conversations lasting more...   \n",
       "4                                  The mic is great.   \n",
       "\n",
       "                                          text_clean  label  \n",
       "0  so there is no way for me to plug it in here i...      0  \n",
       "1                          good case excellent value      1  \n",
       "2                              great for the jawbone      1  \n",
       "3  tied to charger for conversations lasting more...      0  \n",
       "4                                   the mic is great      1  "
      ]
     },
     "execution_count": 6,
     "metadata": {},
     "output_type": "execute_result"
    }
   ],
   "source": [
    "def simple_clean(s: str) -> str:\n",
    "    s = s.lower()\n",
    "    s = re.sub(r\"[^a-z0-9' ]+\", \" \", s)  # keep letters, digits, apostrophes, spaces\n",
    "    s = re.sub(r\"\\s+\", \" \", s).strip()\n",
    "    return s\n",
    "\n",
    "df[\"text_clean\"] = df[\"text\"].apply(simple_clean)\n",
    "df = df[df[\"text_clean\"] != \"\"].reset_index(drop=True)\n",
    "df[[\"text\",\"text_clean\",\"label\"]].head()"
   ]
  },
  {
   "cell_type": "code",
   "execution_count": 7,
   "id": "4d00275a-8785-4f29-8a31-d38634e9cae9",
   "metadata": {},
   "outputs": [
    {
     "name": "stdout",
     "output_type": "stream",
     "text": [
      "Split sizes → Train:2198, Val:275, Test:275\n"
     ]
    }
   ],
   "source": [
    "RANDOM_STATE = 42\n",
    "X = df[\"text_clean\"].values\n",
    "y = df[\"label\"].values\n",
    "\n",
    "X_train, X_temp, y_train, y_temp = train_test_split(\n",
    "    X, y, test_size=0.20, random_state=RANDOM_STATE, stratify=y\n",
    ")\n",
    "X_val, X_test, y_val, y_test = train_test_split(\n",
    "    X_temp, y_temp, test_size=0.50, random_state=RANDOM_STATE, stratify=y_temp\n",
    ")\n",
    "print(f\"Split sizes → Train:{len(X_train)}, Val:{len(X_val)}, Test:{len(X_test)}\")"
   ]
  },
  {
   "cell_type": "markdown",
   "id": "75084e63-5b75-44aa-8137-1b7df967dadc",
   "metadata": {},
   "source": [
    "Basic cleanup: drop wholly empty texts and strip whitespace"
   ]
  },
  {
   "cell_type": "code",
   "execution_count": 8,
   "id": "ef82fdb1-e727-4b7f-a244-d7c669910bd5",
   "metadata": {},
   "outputs": [
    {
     "name": "stdout",
     "output_type": "stream",
     "text": [
      "=== VAL (Word TF-IDF + MNB) ===\n",
      "Acc:0.8109  F1(w):0.8108\n",
      "\n",
      "              precision    recall  f1-score   support\n",
      "\n",
      "           0       0.82      0.79      0.80       136\n",
      "           1       0.80      0.83      0.82       139\n",
      "\n",
      "    accuracy                           0.81       275\n",
      "   macro avg       0.81      0.81      0.81       275\n",
      "weighted avg       0.81      0.81      0.81       275\n",
      "\n"
     ]
    },
    {
     "data": {
      "image/png": "[encoded data removed]",
      "text/plain": [
       "<Figure size 640x480 with 2 Axes>"
      ]
     },
     "metadata": {},
     "output_type": "display_data"
    }
   ],
   "source": [
    "tfidf_word = TfidfVectorizer(ngram_range=(1,2), stop_words=\"english\", min_df=2, max_df=0.95)\n",
    "Xtr_w = tfidf_word.fit_transform(X_train)\n",
    "Xva_w = tfidf_word.transform(X_val)\n",
    "Xte_w = tfidf_word.transform(X_test)\n",
    "\n",
    "nb = MultinomialNB().fit(Xtr_w, y_train)\n",
    "\n",
    "predA = nb.predict(Xva_w)\n",
    "accA  = accuracy_score(y_val, predA)\n",
    "f1A   = f1_score(y_val, predA, average=\"weighted\")\n",
    "print(f\"=== VAL (Word TF-IDF + MNB) ===\\nAcc:{accA:.4f}  F1(w):{f1A:.4f}\\n\")\n",
    "print(classification_report(y_val, predA))\n",
    "ConfusionMatrixDisplay.from_predictions(y_val, predA); plt.title(\"VAL — TF-IDF(word)+MNB\"); plt.show()"
   ]
  },
  {
   "cell_type": "code",
   "execution_count": 9,
   "id": "5d624cd8-cc62-46d9-a487-700f1df9fd5e",
   "metadata": {},
   "outputs": [
    {
     "name": "stdout",
     "output_type": "stream",
     "text": [
      "=== VAL (Char TF-IDF + SVM) ===\n",
      "Acc:0.8327  F1(w):0.8326\n",
      "\n",
      "              precision    recall  f1-score   support\n",
      "\n",
      "           0       0.81      0.86      0.84       136\n",
      "           1       0.85      0.81      0.83       139\n",
      "\n",
      "    accuracy                           0.83       275\n",
      "   macro avg       0.83      0.83      0.83       275\n",
      "weighted avg       0.83      0.83      0.83       275\n",
      "\n"
     ]
    },
    {
     "data": {
      "image/png": "[encoded data removed]",
      "text/plain": [
       "<Figure size 640x480 with 2 Axes>"
      ]
     },
     "metadata": {},
     "output_type": "display_data"
    }
   ],
   "source": [
    "tfidf_char = TfidfVectorizer(analyzer=\"char\", ngram_range=(3,5), min_df=2, max_df=0.95)\n",
    "Xtr_c = tfidf_char.fit_transform(X_train)\n",
    "Xva_c = tfidf_char.transform(X_val)\n",
    "Xte_c = tfidf_char.transform(X_test)\n",
    "\n",
    "svm = LinearSVC(random_state=RANDOM_STATE).fit(Xtr_c, y_train)\n",
    "\n",
    "predB = svm.predict(Xva_c)\n",
    "accB  = accuracy_score(y_val, predB)\n",
    "f1B   = f1_score(y_val, predB, average=\"weighted\")\n",
    "print(f\"=== VAL (Char TF-IDF + SVM) ===\\nAcc:{accB:.4f}  F1(w):{f1B:.4f}\\n\")\n",
    "print(classification_report(y_val, predB))\n",
    "ConfusionMatrixDisplay.from_predictions(y_val, predB); plt.title(\"VAL — TF-IDF(char)+SVM\"); plt.show()"
   ]
  }
 ],
 "metadata": {
  "kernelspec": {
   "display_name": ".venv (3.11.0)",
   "language": "python",
   "name": "python3"
  },
  "language_info": {
   "codemirror_mode": {
    "name": "ipython",
    "version": 3
   },
   "file_extension": ".py",
   "mimetype": "text/x-python",
   "name": "python",
   "nbconvert_exporter": "python",
   "pygments_lexer": "ipython3",
   "version": "3.11.0"
  }
 },
 "nbformat": 4,
 "nbformat_minor": 5
}
